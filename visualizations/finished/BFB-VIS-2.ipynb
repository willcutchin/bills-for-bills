{
 "cells": [
  {
   "cell_type": "code",
   "execution_count": 430,
   "metadata": {},
   "outputs": [],
   "source": [
    "import pandas as pd\n",
    "import matplotlib.pyplot as plt\n",
    "import requests\n",
    "import io\n",
    "import matplotlib.ticker as mtick\n",
    "import seaborn as sns"
   ]
  },
  {
   "cell_type": "code",
   "execution_count": 431,
   "metadata": {},
   "outputs": [],
   "source": [
    "#url variables\n",
    "politician_data_csv_url = \"https://raw.githubusercontent.com/willcutchin/bills-for-bills/main/data-sets/politician-trading-data/politician-trading-data-csv/politician-trading-data-BUY2020-final.csv\"\n",
    "\n",
    "#download csv\n",
    "pol_download = requests.get(politician_data_csv_url).content"
   ]
  },
  {
   "cell_type": "code",
   "execution_count": 432,
   "metadata": {},
   "outputs": [],
   "source": [
    "#read file to data frame\n",
    "pol_df = pd.read_csv(io.StringIO(pol_download.decode('utf-8')))"
   ]
  },
  {
   "cell_type": "code",
   "execution_count": 433,
   "metadata": {},
   "outputs": [
    {
     "data": {
      "text/html": [
       "<div>\n",
       "<style scoped>\n",
       "    .dataframe tbody tr th:only-of-type {\n",
       "        vertical-align: middle;\n",
       "    }\n",
       "\n",
       "    .dataframe tbody tr th {\n",
       "        vertical-align: top;\n",
       "    }\n",
       "\n",
       "    .dataframe thead th {\n",
       "        text-align: right;\n",
       "    }\n",
       "</style>\n",
       "<table border=\"1\" class=\"dataframe\">\n",
       "  <thead>\n",
       "    <tr style=\"text-align: right;\">\n",
       "      <th></th>\n",
       "      <th>REP_FULLNAME</th>\n",
       "      <th>REP_STATE</th>\n",
       "      <th>REP_TYPE</th>\n",
       "      <th>REP_PARTY</th>\n",
       "      <th>COMPANY_TICKER</th>\n",
       "      <th>COMPANY_CODE</th>\n",
       "      <th>COMPANY_COUNTRY</th>\n",
       "      <th>COMPANY_NAME</th>\n",
       "      <th>TRANSACTION_TYPE</th>\n",
       "      <th>TRANSACTION_DATE</th>\n",
       "      <th>TRANSACTION_PRICE</th>\n",
       "      <th>SHARE_TYPE</th>\n",
       "      <th>TRANSACTION_SHARE_PRICE</th>\n",
       "      <th>TRANSACTION_SHARE_QUANTITY</th>\n",
       "      <th>SHARE_PRICE_3_MONTH</th>\n",
       "      <th>SHARE_PRICE_6_MONTH</th>\n",
       "      <th>SHARE_PRICE_1_YEAR</th>\n",
       "      <th>PERCENT_CHANGE_3_MONTH</th>\n",
       "      <th>PERCENT_CHANGE_6_MONTH</th>\n",
       "      <th>PERCENT_CHANGE_12_MONTH</th>\n",
       "    </tr>\n",
       "  </thead>\n",
       "  <tbody>\n",
       "    <tr>\n",
       "      <th>333</th>\n",
       "      <td>Alan Lowenthal</td>\n",
       "      <td>CA</td>\n",
       "      <td>Congress</td>\n",
       "      <td>Democratic</td>\n",
       "      <td>BABA</td>\n",
       "      <td>9988 HK</td>\n",
       "      <td>HK</td>\n",
       "      <td>Alibaba Group Holding Ltd</td>\n",
       "      <td>Buy</td>\n",
       "      <td>11/30/2020</td>\n",
       "      <td>8000</td>\n",
       "      <td>Ord</td>\n",
       "      <td>263.36</td>\n",
       "      <td>30</td>\n",
       "      <td>241.69</td>\n",
       "      <td>219.48</td>\n",
       "      <td>127.53</td>\n",
       "      <td>-8.23</td>\n",
       "      <td>-16.66</td>\n",
       "      <td>-51.580002</td>\n",
       "    </tr>\n",
       "    <tr>\n",
       "      <th>334</th>\n",
       "      <td>David Roe</td>\n",
       "      <td>TN</td>\n",
       "      <td>Congress</td>\n",
       "      <td>Republican</td>\n",
       "      <td>CCOI</td>\n",
       "      <td>CCOI US</td>\n",
       "      <td>US</td>\n",
       "      <td>Cogent Communications Holdings Inc</td>\n",
       "      <td>Buy</td>\n",
       "      <td>11/30/2020</td>\n",
       "      <td>8000</td>\n",
       "      <td>Com</td>\n",
       "      <td>58.14</td>\n",
       "      <td>136</td>\n",
       "      <td>60.32</td>\n",
       "      <td>74.81</td>\n",
       "      <td>74.93</td>\n",
       "      <td>3.75</td>\n",
       "      <td>28.67</td>\n",
       "      <td>28.879999</td>\n",
       "    </tr>\n",
       "    <tr>\n",
       "      <th>335</th>\n",
       "      <td>David Roe</td>\n",
       "      <td>TN</td>\n",
       "      <td>Congress</td>\n",
       "      <td>Republican</td>\n",
       "      <td>CSCO</td>\n",
       "      <td>CSCO US</td>\n",
       "      <td>US</td>\n",
       "      <td>Cisco Systems Inc</td>\n",
       "      <td>Buy</td>\n",
       "      <td>11/30/2020</td>\n",
       "      <td>8000</td>\n",
       "      <td>Com</td>\n",
       "      <td>43.02</td>\n",
       "      <td>184</td>\n",
       "      <td>45.92</td>\n",
       "      <td>52.62</td>\n",
       "      <td>54.84</td>\n",
       "      <td>6.74</td>\n",
       "      <td>22.32</td>\n",
       "      <td>27.480000</td>\n",
       "    </tr>\n",
       "    <tr>\n",
       "      <th>336</th>\n",
       "      <td>David Roe</td>\n",
       "      <td>TN</td>\n",
       "      <td>Congress</td>\n",
       "      <td>Republican</td>\n",
       "      <td>DDOG</td>\n",
       "      <td>DDOG US</td>\n",
       "      <td>US</td>\n",
       "      <td>Datadog Inc</td>\n",
       "      <td>Buy</td>\n",
       "      <td>11/30/2020</td>\n",
       "      <td>8000</td>\n",
       "      <td>Com A</td>\n",
       "      <td>98.92</td>\n",
       "      <td>80</td>\n",
       "      <td>97.61</td>\n",
       "      <td>91.88</td>\n",
       "      <td>178.29</td>\n",
       "      <td>-1.32</td>\n",
       "      <td>-7.12</td>\n",
       "      <td>80.239998</td>\n",
       "    </tr>\n",
       "    <tr>\n",
       "      <th>337</th>\n",
       "      <td>Douglas Lamborn</td>\n",
       "      <td>CO</td>\n",
       "      <td>Congress</td>\n",
       "      <td>Republican</td>\n",
       "      <td>NTAP</td>\n",
       "      <td>NTAP US</td>\n",
       "      <td>US</td>\n",
       "      <td>NetApp Inc</td>\n",
       "      <td>Buy</td>\n",
       "      <td>11/30/2020</td>\n",
       "      <td>16001</td>\n",
       "      <td>Com NPV</td>\n",
       "      <td>53.31</td>\n",
       "      <td>300</td>\n",
       "      <td>65.23</td>\n",
       "      <td>76.71</td>\n",
       "      <td>88.88</td>\n",
       "      <td>22.36</td>\n",
       "      <td>43.89</td>\n",
       "      <td>66.720001</td>\n",
       "    </tr>\n",
       "  </tbody>\n",
       "</table>\n",
       "</div>"
      ],
      "text/plain": [
       "        REP_FULLNAME REP_STATE  REP_TYPE   REP_PARTY COMPANY_TICKER  \\\n",
       "333   Alan Lowenthal        CA  Congress  Democratic           BABA   \n",
       "334        David Roe        TN  Congress  Republican           CCOI   \n",
       "335        David Roe        TN  Congress  Republican           CSCO   \n",
       "336        David Roe        TN  Congress  Republican           DDOG   \n",
       "337  Douglas Lamborn        CO  Congress  Republican           NTAP   \n",
       "\n",
       "    COMPANY_CODE COMPANY_COUNTRY                        COMPANY_NAME  \\\n",
       "333      9988 HK              HK           Alibaba Group Holding Ltd   \n",
       "334      CCOI US              US  Cogent Communications Holdings Inc   \n",
       "335      CSCO US              US                   Cisco Systems Inc   \n",
       "336      DDOG US              US                         Datadog Inc   \n",
       "337      NTAP US              US                          NetApp Inc   \n",
       "\n",
       "    TRANSACTION_TYPE TRANSACTION_DATE  TRANSACTION_PRICE SHARE_TYPE  \\\n",
       "333              Buy       11/30/2020               8000        Ord   \n",
       "334              Buy       11/30/2020               8000        Com   \n",
       "335              Buy       11/30/2020               8000        Com   \n",
       "336              Buy       11/30/2020               8000      Com A   \n",
       "337              Buy       11/30/2020              16001    Com NPV   \n",
       "\n",
       "     TRANSACTION_SHARE_PRICE TRANSACTION_SHARE_QUANTITY  SHARE_PRICE_3_MONTH  \\\n",
       "333                   263.36                         30               241.69   \n",
       "334                    58.14                        136                60.32   \n",
       "335                    43.02                        184                45.92   \n",
       "336                    98.92                         80                97.61   \n",
       "337                    53.31                        300                65.23   \n",
       "\n",
       "     SHARE_PRICE_6_MONTH  SHARE_PRICE_1_YEAR PERCENT_CHANGE_3_MONTH  \\\n",
       "333               219.48              127.53                  -8.23   \n",
       "334                74.81               74.93                   3.75   \n",
       "335                52.62               54.84                   6.74   \n",
       "336                91.88              178.29                  -1.32   \n",
       "337                76.71               88.88                  22.36   \n",
       "\n",
       "    PERCENT_CHANGE_6_MONTH  PERCENT_CHANGE_12_MONTH  \n",
       "333                 -16.66               -51.580002  \n",
       "334                  28.67                28.879999  \n",
       "335                  22.32                27.480000  \n",
       "336                  -7.12                80.239998  \n",
       "337                  43.89                66.720001  "
      ]
     },
     "execution_count": 433,
     "metadata": {},
     "output_type": "execute_result"
    }
   ],
   "source": [
    "#clean NaN values from yearly\n",
    "pol_df = pol_df[pol_df.PERCENT_CHANGE_12_MONTH != '#DIV/0!']\n",
    "pol_df = pol_df.dropna(subset=['PERCENT_CHANGE_12_MONTH'])\n",
    "\n",
    "#change PERCENT_CHANGE_12_MONTH to be float\n",
    "pol_df['PERCENT_CHANGE_12_MONTH'] = pd.to_numeric(pol_df['PERCENT_CHANGE_12_MONTH'], downcast=\"float\")\n",
    "\n",
    "#only accept names with 10 trades or more\n",
    "\n",
    "#check\n",
    "pol_df.head()"
   ]
  },
  {
   "cell_type": "code",
   "execution_count": 434,
   "metadata": {},
   "outputs": [
    {
     "name": "stdout",
     "output_type": "stream",
     "text": [
      "['Alan Lowenthal', 'Charles Fleischmann', 'Charles Roberts', 'David Mckinley', 'David Perdue', 'David Roe', 'Dean Phillips', 'Dwight Evans', 'Earl Blumenauer', 'Francis Rooney', 'Gilbert Cisneros', 'Gregory Gianforte', 'Harley Rouda', 'John Boozman', 'John Curtis', 'John Yarmuth', 'Joseph Courtney', 'Joshua Gottheimer', 'Katherine Clark', 'Kelly Loeffler', 'Kenneth Conaway', 'Kenny Marchant', 'Kevin Hern', 'Lois Frankel', 'Mark Green', 'Michael Mccaul', 'Peter Olson', 'Rebecca Sherrill', 'Rohit Khanna', 'Ronald Wyden', 'Susan Carol Davis', 'Susie Lee', 'Thomas Carper', 'Thomas Suozzi', 'Tomasz Malinowski', 'Virginia Foxx', 'Walter Schrader']\n"
     ]
    }
   ],
   "source": [
    "pol_ent_count = pol_df.groupby(['REP_FULLNAME']).count().reset_index()\n",
    "pol_ent_count['REP_TYPE'] = pd.to_numeric(pol_ent_count['REP_TYPE'], downcast=\"integer\")\n",
    "pol_ent_count = pol_ent_count.loc[pol_ent_count['REP_TYPE'] > 20]\n",
    "valid_names_freq = pol_ent_count['REP_FULLNAME'].tolist()\n",
    "print(valid_names_freq)"
   ]
  },
  {
   "cell_type": "code",
   "execution_count": 435,
   "metadata": {},
   "outputs": [],
   "source": [
    "#create a list of names with average trade\n",
    "pol_20_trades = pol_df.loc[pol_df['REP_FULLNAME'].isin(valid_names_freq)]\n"
   ]
  },
  {
   "cell_type": "code",
   "execution_count": 436,
   "metadata": {},
   "outputs": [
    {
     "name": "stdout",
     "output_type": "stream",
     "text": [
      "['Alan Lowenthal', 'Charles Fleischmann', 'Charles Roberts', 'David Mckinley', 'David Perdue', 'David Roe', 'Dean Phillips', 'Dwight Evans', 'Earl Blumenauer', 'Francis Rooney']\n"
     ]
    }
   ],
   "source": [
    "#find names of top 10 traders\n",
    "top_10_trades = pol_20_trades.groupby('REP_FULLNAME', sort=True).mean().reset_index()\n",
    "top_10 = top_10_trades.head(10)\n",
    "valid_names = top_10[\"REP_FULLNAME\"].tolist()\n",
    "print(valid_names)"
   ]
  },
  {
   "cell_type": "code",
   "execution_count": 437,
   "metadata": {},
   "outputs": [],
   "source": [
    "#create a of all transactions top 10\n",
    "top_10_df = pol_df.loc[pol_df[\"REP_FULLNAME\"].isin(valid_names)]"
   ]
  },
  {
   "cell_type": "code",
   "execution_count": 438,
   "metadata": {},
   "outputs": [
    {
     "data": {
      "image/png": "[encoded data removed]",
      "text/plain": [
       "<Figure size 432x288 with 1 Axes>"
      ]
     },
     "metadata": {},
     "output_type": "display_data"
    }
   ],
   "source": [
    "#create box plot\n",
    "palette = sns.color_palette(\"flare\",10)\n",
    "ax = sns.boxplot(x='REP_FULLNAME',y='PERCENT_CHANGE_12_MONTH',data=top_10_df,showfliers=False,palette=palette)\n",
    "ax.axhline(0,color=\"red\",linestyle=\"-\",lw=2)\n",
    "ax.set_xlabel(\"Politican Name\",fontsize=20,labelpad=20)\n",
    "ax.set_ylabel(\"Returns (%)\",fontsize=20,labelpad=20)\n",
    "ax.set_xticklabels(ax.get_xticklabels(),rotation = 90,fontsize=10)\n",
    "ax.yaxis.set_major_formatter(mtick.PercentFormatter())\n",
    "ax.set_title(\"Top 10 Preforming Politicans (2020)\", fontsize=20, pad=50)\n",
    "ax.margins(x=5)\n",
    "plt.savefig('bfb_visualization_2_box',bbox_inches='tight')"
   ]
  }
 ],
 "metadata": {
  "interpreter": {
   "hash": "89be6eef660bd348af22d8a672b70db46ade2da57f8c532c275dea990af3f1a8"
  },
  "kernelspec": {
   "display_name": "Python 3.8.8 64-bit ('base': conda)",
   "language": "python",
   "name": "python3"
  },
  "language_info": {
   "codemirror_mode": {
    "name": "ipython",
    "version": 3
   },
   "file_extension": ".py",
   "mimetype": "text/x-python",
   "name": "python",
   "nbconvert_exporter": "python",
   "pygments_lexer": "ipython3",
   "version": "3.8.8"
  },
  "orig_nbformat": 4
 },
 "nbformat": 4,
 "nbformat_minor": 2
}
