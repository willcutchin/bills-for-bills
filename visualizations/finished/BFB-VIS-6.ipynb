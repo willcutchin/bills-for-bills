{
 "cells": [
  {
   "cell_type": "code",
   "execution_count": 2,
   "metadata": {},
   "outputs": [],
   "source": [
    "import pandas as pd\n",
    "import matplotlib.pyplot as plt\n",
    "import requests\n",
    "import io\n",
    "import seaborn as sns\n",
    "import matplotlib.ticker as mtick"
   ]
  },
  {
   "cell_type": "code",
   "execution_count": 3,
   "metadata": {},
   "outputs": [],
   "source": [
    "#url variables\n",
    "politician_data_csv_url = \"https://raw.githubusercontent.com/willcutchin/bills-for-bills/main/data-sets/politician-trading-data/politician-trading-data-csv/politician-trading-data-BUY2020-final.csv\"\n",
    "\n",
    "#download csv\n",
    "pol_download = requests.get(politician_data_csv_url).content"
   ]
  },
  {
   "cell_type": "code",
   "execution_count": 4,
   "metadata": {},
   "outputs": [],
   "source": [
    "#read file to data frame\n",
    "pol_df = pd.read_csv(io.StringIO(pol_download.decode('utf-8')))"
   ]
  },
  {
   "cell_type": "code",
   "execution_count": 5,
   "metadata": {},
   "outputs": [],
   "source": [
    "pol_df = pol_df[pol_df.PERCENT_CHANGE_12_MONTH != '#DIV/0!']\n",
    "index = pol_df[\"REP_FULLNAME\"].index\n",
    "total_enteries = len(index)\n",
    "pol_df = pol_df.dropna(subset=['PERCENT_CHANGE_12_MONTH'])\n",
    "pol_df['PERCENT_CHANGE_12_MONTH'] = pd.to_numeric(pol_df['PERCENT_CHANGE_12_MONTH'], downcast=\"integer\")\n"
   ]
  },
  {
   "cell_type": "code",
   "execution_count": 6,
   "metadata": {},
   "outputs": [
    {
     "data": {
      "text/plain": [
       "48.97992115186869"
      ]
     },
     "execution_count": 6,
     "metadata": {},
     "output_type": "execute_result"
    }
   ],
   "source": [
    "return_avg = pol_df['PERCENT_CHANGE_12_MONTH'].mean()\n",
    "return_avg"
   ]
  },
  {
   "cell_type": "code",
   "execution_count": 7,
   "metadata": {},
   "outputs": [
    {
     "data": {
      "text/plain": [
       "194180183"
      ]
     },
     "execution_count": 7,
     "metadata": {},
     "output_type": "execute_result"
    }
   ],
   "source": [
    "total_trade = pol_df['TRANSACTION_PRICE'].sum()\n",
    "total_trade"
   ]
  },
  {
   "cell_type": "code",
   "execution_count": 8,
   "metadata": {},
   "outputs": [
    {
     "data": {
      "text/plain": [
       "9705110235.595432"
      ]
     },
     "execution_count": 8,
     "metadata": {},
     "output_type": "execute_result"
    }
   ],
   "source": [
    "nominal_returns = (return_avg + 1) * (total_trade)\n",
    "nominal_returns"
   ]
  },
  {
   "cell_type": "code",
   "execution_count": 9,
   "metadata": {},
   "outputs": [
    {
     "data": {
      "text/plain": [
       "6174"
      ]
     },
     "execution_count": 9,
     "metadata": {},
     "output_type": "execute_result"
    }
   ],
   "source": [
    "total_enteries"
   ]
  },
  {
   "cell_type": "code",
   "execution_count": 10,
   "metadata": {},
   "outputs": [],
   "source": [
    "average_nom_returns = nominal_returns/total_enteries\n",
    "average_nom_returns\n",
    "pol_salary = 174000\n"
   ]
  },
  {
   "cell_type": "code",
   "execution_count": 11,
   "metadata": {},
   "outputs": [],
   "source": [
    "pol_salary_data = {'SALARY':[174000]}\n",
    "pol_trade_data = {'NOMINAL_TRADING_AVG':[average_nom_returns]}"
   ]
  },
  {
   "cell_type": "code",
   "execution_count": 12,
   "metadata": {},
   "outputs": [],
   "source": [
    "total = average_nom_returns\n",
    "pol_df_salary = pd.DataFrame(data=pol_salary_data)\n",
    "pol_df_trade = pd.DataFrame(data=pol_trade_data)"
   ]
  },
  {
   "cell_type": "code",
   "execution_count": 13,
   "metadata": {},
   "outputs": [
    {
     "data": {
      "text/plain": [
       "<matplotlib.legend.Legend at 0x1c97c353be0>"
      ]
     },
     "execution_count": 13,
     "metadata": {},
     "output_type": "execute_result"
    },
    {
     "data": {
      "image/png": "[encoded data removed]",
      "text/plain": [
       "<Figure size 432x288 with 1 Axes>"
      ]
     },
     "metadata": {
      "needs_background": "light"
     },
     "output_type": "display_data"
    }
   ],
   "source": [
    "#single bar chart\n",
    "ax1 = sns.barplot(x=\"NOMINAL_TRADING_AVG\", data=pol_df_trade, estimator=sum, ci=None,color='red',label=\"Average Nominal Returns\")\n",
    "ax2 = sns.barplot(x=\"SALARY\",color='blue', data=pol_df_salary,label=\"Congresional Salary\")\n",
    "ax1.set_ylabel(\"Congressional Income Split\",fontsize=15)\n",
    "ax1.set_xlabel(\"Income (Millions of Dollars)\", fontsize=15)\n",
    "ax1.set_title(\"Average Nominal Stock Returns vs Congressional Salary (2020)\",fontsize=20,pad=20)\n",
    "plt.legend(labels=[\"Congressional Salary\",\"Average Nominal Stock Gain\"], \n",
    "           fontsize = 'large', title_fontsize = \"10\",bbox_to_anchor=(1,1))"
   ]
  }
 ],
 "metadata": {
  "interpreter": {
   "hash": "89be6eef660bd348af22d8a672b70db46ade2da57f8c532c275dea990af3f1a8"
  },
  "kernelspec": {
   "display_name": "Python 3.8.8 64-bit ('base': conda)",
   "language": "python",
   "name": "python3"
  },
  "language_info": {
   "codemirror_mode": {
    "name": "ipython",
    "version": 3
   },
   "file_extension": ".py",
   "mimetype": "text/x-python",
   "name": "python",
   "nbconvert_exporter": "python",
   "pygments_lexer": "ipython3",
   "version": "3.8.8"
  },
  "orig_nbformat": 4
 },
 "nbformat": 4,
 "nbformat_minor": 2
}
