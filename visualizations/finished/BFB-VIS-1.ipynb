{
 "cells": [
  {
   "cell_type": "code",
   "execution_count": 2,
   "metadata": {},
   "outputs": [],
   "source": [
    "import pandas as pd\n",
    "import matplotlib.pyplot as plt\n",
    "import requests\n",
    "import io\n",
    "import seaborn as sns\n",
    "import matplotlib.ticker as mtick"
   ]
  },
  {
   "cell_type": "code",
   "execution_count": 3,
   "metadata": {},
   "outputs": [],
   "source": [
    "#url variables\n",
    "politician_data_csv_url = \"https://raw.githubusercontent.com/willcutchin/bills-for-bills/main/data-sets/politician-trading-data/politician-trading-data-csv/politician-trading-data-BUY2020-final.csv\"\n",
    "hedge_data_csv_url = \"https://raw.githubusercontent.com/willcutchin/bills-for-bills/main/data-sets/hedge-fund-data/TOP20HEDGE2020.csv\"\n",
    "\n",
    "#download csv\n",
    "pol_download = requests.get(politician_data_csv_url).content\n",
    "hedge_download = requests.get(hedge_data_csv_url).content"
   ]
  },
  {
   "cell_type": "code",
   "execution_count": 4,
   "metadata": {},
   "outputs": [],
   "source": [
    "#read file to data frame\n",
    "pol_df = pd.read_csv(io.StringIO(pol_download.decode('utf-8')))\n",
    "hedge_df = pd.read_csv(io.StringIO(hedge_download.decode('utf-8')))"
   ]
  },
  {
   "cell_type": "code",
   "execution_count": 5,
   "metadata": {},
   "outputs": [],
   "source": [
    "#change PERCENT_CHANGE_12_MONTH to float and find the mean\n",
    "pol_df2 = pol_df[pol_df.PERCENT_CHANGE_12_MONTH != '#DIV/0!']\n",
    "pol_df2 = pol_df2.dropna(subset=['PERCENT_CHANGE_12_MONTH'])\n",
    "pol_df2 = pol_df2['PERCENT_CHANGE_12_MONTH'].astype(float)\n",
    "\n",
    "pol_12_month_avg = pol_df2.mean()"
   ]
  },
  {
   "cell_type": "code",
   "execution_count": 8,
   "metadata": {},
   "outputs": [
    {
     "data": {
      "text/html": [
       "<div>\n",
       "<style scoped>\n",
       "    .dataframe tbody tr th:only-of-type {\n",
       "        vertical-align: middle;\n",
       "    }\n",
       "\n",
       "    .dataframe tbody tr th {\n",
       "        vertical-align: top;\n",
       "    }\n",
       "\n",
       "    .dataframe thead th {\n",
       "        text-align: right;\n",
       "    }\n",
       "</style>\n",
       "<table border=\"1\" class=\"dataframe\">\n",
       "  <thead>\n",
       "    <tr style=\"text-align: right;\">\n",
       "      <th></th>\n",
       "      <th>HEDGE_NAME</th>\n",
       "      <th>ASSETS_UNDER_MANAGMENT_2020_BILLIONS</th>\n",
       "      <th>RETURNS_2020_BILLIONS</th>\n",
       "      <th>PERCENT_RETURNS_2020</th>\n",
       "    </tr>\n",
       "  </thead>\n",
       "  <tbody>\n",
       "    <tr>\n",
       "      <th>10</th>\n",
       "      <td>Politician Average Returns</td>\n",
       "      <td>NaN</td>\n",
       "      <td>NaN</td>\n",
       "      <td>48.979921</td>\n",
       "    </tr>\n",
       "    <tr>\n",
       "      <th>8</th>\n",
       "      <td>Viking Global Investors</td>\n",
       "      <td>20.0</td>\n",
       "      <td>7.0</td>\n",
       "      <td>35.000000</td>\n",
       "    </tr>\n",
       "    <tr>\n",
       "      <th>9</th>\n",
       "      <td>Brevan Howard</td>\n",
       "      <td>9.7</td>\n",
       "      <td>3.0</td>\n",
       "      <td>30.930000</td>\n",
       "    </tr>\n",
       "    <tr>\n",
       "      <th>1</th>\n",
       "      <td>Millennium Management</td>\n",
       "      <td>43.9</td>\n",
       "      <td>10.2</td>\n",
       "      <td>23.240000</td>\n",
       "    </tr>\n",
       "    <tr>\n",
       "      <th>4</th>\n",
       "      <td>Citadel</td>\n",
       "      <td>34.3</td>\n",
       "      <td>6.2</td>\n",
       "      <td>18.080000</td>\n",
       "    </tr>\n",
       "    <tr>\n",
       "      <th>5</th>\n",
       "      <td>D.E. Shaw Group</td>\n",
       "      <td>34.3</td>\n",
       "      <td>5.4</td>\n",
       "      <td>15.750000</td>\n",
       "    </tr>\n",
       "    <tr>\n",
       "      <th>3</th>\n",
       "      <td>TCI Fund Management</td>\n",
       "      <td>35.0</td>\n",
       "      <td>4.2</td>\n",
       "      <td>12.000000</td>\n",
       "    </tr>\n",
       "    <tr>\n",
       "      <th>2</th>\n",
       "      <td>Elliott Management</td>\n",
       "      <td>42.0</td>\n",
       "      <td>5.0</td>\n",
       "      <td>11.910000</td>\n",
       "    </tr>\n",
       "    <tr>\n",
       "      <th>6</th>\n",
       "      <td>Farallon Capital Management</td>\n",
       "      <td>30.0</td>\n",
       "      <td>2.9</td>\n",
       "      <td>9.670000</td>\n",
       "    </tr>\n",
       "    <tr>\n",
       "      <th>7</th>\n",
       "      <td>Baupost Group</td>\n",
       "      <td>29.1</td>\n",
       "      <td>1.5</td>\n",
       "      <td>5.160000</td>\n",
       "    </tr>\n",
       "    <tr>\n",
       "      <th>0</th>\n",
       "      <td>Bridgewater Associates</td>\n",
       "      <td>98.9</td>\n",
       "      <td>-12.1</td>\n",
       "      <td>-12.240000</td>\n",
       "    </tr>\n",
       "  </tbody>\n",
       "</table>\n",
       "</div>"
      ],
      "text/plain": [
       "                     HEDGE_NAME  ASSETS_UNDER_MANAGMENT_2020_BILLIONS  \\\n",
       "10   Politician Average Returns                                   NaN   \n",
       "8       Viking Global Investors                                  20.0   \n",
       "9                 Brevan Howard                                   9.7   \n",
       "1        Millennium Management                                   43.9   \n",
       "4                       Citadel                                  34.3   \n",
       "5               D.E. Shaw Group                                  34.3   \n",
       "3           TCI Fund Management                                  35.0   \n",
       "2            Elliott Management                                  42.0   \n",
       "6   Farallon Capital Management                                  30.0   \n",
       "7                 Baupost Group                                  29.1   \n",
       "0        Bridgewater Associates                                  98.9   \n",
       "\n",
       "    RETURNS_2020_BILLIONS  PERCENT_RETURNS_2020  \n",
       "10                    NaN             48.979921  \n",
       "8                     7.0             35.000000  \n",
       "9                     3.0             30.930000  \n",
       "1                    10.2             23.240000  \n",
       "4                     6.2             18.080000  \n",
       "5                     5.4             15.750000  \n",
       "3                     4.2             12.000000  \n",
       "2                     5.0             11.910000  \n",
       "6                     2.9              9.670000  \n",
       "7                     1.5              5.160000  \n",
       "0                   -12.1            -12.240000  "
      ]
     },
     "execution_count": 8,
     "metadata": {},
     "output_type": "execute_result"
    }
   ],
   "source": [
    "#create a data frame with hedge data and pol returns\n",
    "vis_1_df = hedge_df\n",
    "pol_row = {'HEDGE_NAME': 'Politician Average Returns','PERCENT_RETURNS_2020': pol_12_month_avg}\n",
    "vis_1_df = vis_1_df.append(pol_row, ignore_index=True)\n",
    "vis_1_df = vis_1_df.sort_values(by=['PERCENT_RETURNS_2020'], ascending=False)\n",
    "vis_1_df.head(12)"
   ]
  },
  {
   "cell_type": "code",
   "execution_count": 7,
   "metadata": {},
   "outputs": [
    {
     "data": {
      "image/png": "[encoded data removed]",
      "text/plain": [
       "<Figure size 432x288 with 1 Axes>"
      ]
     },
     "metadata": {
      "needs_background": "light"
     },
     "output_type": "display_data"
    }
   ],
   "source": [
    "#visualization 1\n",
    "palette = sns.color_palette(\"crest\",11)\n",
    "ax=sns.barplot(x=vis_1_df[\"PERCENT_RETURNS_2020\"],y=vis_1_df[\"HEDGE_NAME\"],palette=palette)\n",
    "ax.axvline(0,color=\"black\",linestyle=\"-\",lw=3)\n",
    "ax.set_xlabel(\"Total Returns 2020 (%)\",fontsize=20,labelpad=20)\n",
    "ax.set_title(\"Politician Average Returns vs. Hedge Fund Returns (2020)\", fontsize=25, pad=20)\n",
    "ax.margins(x=0.1)\n",
    "ax.set(ylabel=None)\n",
    "ax.xaxis.set_major_formatter(mtick.PercentFormatter())\n",
    "plt.savefig('bfb_visualization_1_bar')"
   ]
  }
 ],
 "metadata": {
  "interpreter": {
   "hash": "89be6eef660bd348af22d8a672b70db46ade2da57f8c532c275dea990af3f1a8"
  },
  "kernelspec": {
   "display_name": "Python 3.8.8 64-bit ('base': conda)",
   "language": "python",
   "name": "python3"
  },
  "language_info": {
   "codemirror_mode": {
    "name": "ipython",
    "version": 3
   },
   "file_extension": ".py",
   "mimetype": "text/x-python",
   "name": "python",
   "nbconvert_exporter": "python",
   "pygments_lexer": "ipython3",
   "version": "3.8.8"
  },
  "orig_nbformat": 4
 },
 "nbformat": 4,
 "nbformat_minor": 2
}
