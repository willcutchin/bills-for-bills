{
 "cells": [
  {
   "cell_type": "code",
   "execution_count": 243,
   "metadata": {},
   "outputs": [],
   "source": [
    "import pandas as pd\n",
    "import matplotlib.pyplot as plt\n",
    "import requests\n",
    "import io\n",
    "import seaborn as sns\n",
    "import matplotlib.ticker as mtick"
   ]
  },
  {
   "cell_type": "code",
   "execution_count": 244,
   "metadata": {},
   "outputs": [],
   "source": [
    "#url variables\n",
    "politician_data_csv_url = \"https://raw.githubusercontent.com/willcutchin/bills-for-bills/main/data-sets/politician-trading-data/politician-trading-data-csv/politician-trading-data-BUY2020-final.csv\"\n",
    "\n",
    "#download csv\n",
    "pol_download = requests.get(politician_data_csv_url).content"
   ]
  },
  {
   "cell_type": "code",
   "execution_count": 245,
   "metadata": {},
   "outputs": [],
   "source": [
    "#read file to data frame\n",
    "pol_df = pd.read_csv(io.StringIO(pol_download.decode('utf-8')))"
   ]
  },
  {
   "cell_type": "code",
   "execution_count": 246,
   "metadata": {},
   "outputs": [],
   "source": [
    "#Drop NA from 12\n",
    "pol_df = pol_df[pol_df.PERCENT_CHANGE_12_MONTH != '#DIV/0!']\n",
    "pol_df = pol_df.dropna(subset=['PERCENT_CHANGE_12_MONTH'])\n",
    "\n",
    "#Drop NA from 6\n",
    "pol_df = pol_df[pol_df.PERCENT_CHANGE_6_MONTH != '#DIV/0!']\n",
    "pol_df = pol_df.dropna(subset=['PERCENT_CHANGE_6_MONTH'])\n",
    "\n",
    "#Drop NA from 3\n",
    "pol_df = pol_df[pol_df.PERCENT_CHANGE_3_MONTH != '#DIV/0!']\n",
    "pol_df = pol_df.dropna(subset=['PERCENT_CHANGE_3_MONTH'])\n",
    "\n",
    "#make int\n",
    "pol_df['PERCENT_CHANGE_12_MONTH'] = pd.to_numeric(pol_df['PERCENT_CHANGE_12_MONTH'], downcast=\"integer\")\n",
    "pol_df['PERCENT_CHANGE_6_MONTH'] = pd.to_numeric(pol_df['PERCENT_CHANGE_6_MONTH'], downcast=\"integer\")\n",
    "pol_df['PERCENT_CHANGE_3_MONTH'] = pd.to_numeric(pol_df['PERCENT_CHANGE_3_MONTH'], downcast=\"integer\")"
   ]
  },
  {
   "cell_type": "code",
   "execution_count": 247,
   "metadata": {},
   "outputs": [],
   "source": [
    "#create data frame with percent change\n",
    "pol_change_df_12 = pol_df[[\"PERCENT_CHANGE_12_MONTH\"]]\n",
    "pol_change_df_6 = pol_df[[\"PERCENT_CHANGE_6_MONTH\"]]\n",
    "pol_change_df_3 = pol_df[[\"PERCENT_CHANGE_3_MONTH\"]]"
   ]
  },
  {
   "cell_type": "code",
   "execution_count": 248,
   "metadata": {},
   "outputs": [],
   "source": [
    "max_quant = 0.95\n",
    "min_quant = 0.05"
   ]
  },
  {
   "cell_type": "code",
   "execution_count": 249,
   "metadata": {},
   "outputs": [
    {
     "data": {
      "text/html": [
       "<div>\n",
       "<style scoped>\n",
       "    .dataframe tbody tr th:only-of-type {\n",
       "        vertical-align: middle;\n",
       "    }\n",
       "\n",
       "    .dataframe tbody tr th {\n",
       "        vertical-align: top;\n",
       "    }\n",
       "\n",
       "    .dataframe thead th {\n",
       "        text-align: right;\n",
       "    }\n",
       "</style>\n",
       "<table border=\"1\" class=\"dataframe\">\n",
       "  <thead>\n",
       "    <tr style=\"text-align: right;\">\n",
       "      <th></th>\n",
       "      <th>PERCENT_CHANGE_12_MONTH</th>\n",
       "    </tr>\n",
       "  </thead>\n",
       "  <tbody>\n",
       "    <tr>\n",
       "      <th>334</th>\n",
       "      <td>28.88</td>\n",
       "    </tr>\n",
       "    <tr>\n",
       "      <th>335</th>\n",
       "      <td>27.48</td>\n",
       "    </tr>\n",
       "    <tr>\n",
       "      <th>336</th>\n",
       "      <td>80.24</td>\n",
       "    </tr>\n",
       "    <tr>\n",
       "      <th>337</th>\n",
       "      <td>66.72</td>\n",
       "    </tr>\n",
       "    <tr>\n",
       "      <th>338</th>\n",
       "      <td>16.20</td>\n",
       "    </tr>\n",
       "    <tr>\n",
       "      <th>...</th>\n",
       "      <td>...</td>\n",
       "    </tr>\n",
       "    <tr>\n",
       "      <th>6167</th>\n",
       "      <td>-7.49</td>\n",
       "    </tr>\n",
       "    <tr>\n",
       "      <th>6170</th>\n",
       "      <td>49.96</td>\n",
       "    </tr>\n",
       "    <tr>\n",
       "      <th>6172</th>\n",
       "      <td>-13.10</td>\n",
       "    </tr>\n",
       "    <tr>\n",
       "      <th>6173</th>\n",
       "      <td>72.34</td>\n",
       "    </tr>\n",
       "    <tr>\n",
       "      <th>6175</th>\n",
       "      <td>-9.94</td>\n",
       "    </tr>\n",
       "  </tbody>\n",
       "</table>\n",
       "<p>5237 rows × 1 columns</p>\n",
       "</div>"
      ],
      "text/plain": [
       "      PERCENT_CHANGE_12_MONTH\n",
       "334                     28.88\n",
       "335                     27.48\n",
       "336                     80.24\n",
       "337                     66.72\n",
       "338                     16.20\n",
       "...                       ...\n",
       "6167                    -7.49\n",
       "6170                    49.96\n",
       "6172                   -13.10\n",
       "6173                    72.34\n",
       "6175                    -9.94\n",
       "\n",
       "[5237 rows x 1 columns]"
      ]
     },
     "execution_count": 249,
     "metadata": {},
     "output_type": "execute_result"
    }
   ],
   "source": [
    "min_thresh, max_thresh = pol_change_df_12[\"PERCENT_CHANGE_12_MONTH\"].quantile([min_quant,max_quant])\n",
    "pol_change_df_12 = pol_change_df_12.loc[(pol_change_df_12.PERCENT_CHANGE_12_MONTH<max_thresh)&(pol_change_df_12.PERCENT_CHANGE_12_MONTH>min_thresh)]\n",
    "pol_change_df_12.dropna()"
   ]
  },
  {
   "cell_type": "code",
   "execution_count": 250,
   "metadata": {},
   "outputs": [
    {
     "data": {
      "text/html": [
       "<div>\n",
       "<style scoped>\n",
       "    .dataframe tbody tr th:only-of-type {\n",
       "        vertical-align: middle;\n",
       "    }\n",
       "\n",
       "    .dataframe tbody tr th {\n",
       "        vertical-align: top;\n",
       "    }\n",
       "\n",
       "    .dataframe thead th {\n",
       "        text-align: right;\n",
       "    }\n",
       "</style>\n",
       "<table border=\"1\" class=\"dataframe\">\n",
       "  <thead>\n",
       "    <tr style=\"text-align: right;\">\n",
       "      <th></th>\n",
       "      <th>PERCENT_CHANGE_6_MONTH</th>\n",
       "    </tr>\n",
       "  </thead>\n",
       "  <tbody>\n",
       "    <tr>\n",
       "      <th>333</th>\n",
       "      <td>-16.66</td>\n",
       "    </tr>\n",
       "    <tr>\n",
       "      <th>334</th>\n",
       "      <td>28.67</td>\n",
       "    </tr>\n",
       "    <tr>\n",
       "      <th>335</th>\n",
       "      <td>22.32</td>\n",
       "    </tr>\n",
       "    <tr>\n",
       "      <th>336</th>\n",
       "      <td>-7.12</td>\n",
       "    </tr>\n",
       "    <tr>\n",
       "      <th>337</th>\n",
       "      <td>43.89</td>\n",
       "    </tr>\n",
       "    <tr>\n",
       "      <th>...</th>\n",
       "      <td>...</td>\n",
       "    </tr>\n",
       "    <tr>\n",
       "      <th>6163</th>\n",
       "      <td>-6.50</td>\n",
       "    </tr>\n",
       "    <tr>\n",
       "      <th>6165</th>\n",
       "      <td>-19.56</td>\n",
       "    </tr>\n",
       "    <tr>\n",
       "      <th>6169</th>\n",
       "      <td>-25.95</td>\n",
       "    </tr>\n",
       "    <tr>\n",
       "      <th>6170</th>\n",
       "      <td>-1.68</td>\n",
       "    </tr>\n",
       "    <tr>\n",
       "      <th>6173</th>\n",
       "      <td>21.45</td>\n",
       "    </tr>\n",
       "  </tbody>\n",
       "</table>\n",
       "<p>5237 rows × 1 columns</p>\n",
       "</div>"
      ],
      "text/plain": [
       "      PERCENT_CHANGE_6_MONTH\n",
       "333                   -16.66\n",
       "334                    28.67\n",
       "335                    22.32\n",
       "336                    -7.12\n",
       "337                    43.89\n",
       "...                      ...\n",
       "6163                   -6.50\n",
       "6165                  -19.56\n",
       "6169                  -25.95\n",
       "6170                   -1.68\n",
       "6173                   21.45\n",
       "\n",
       "[5237 rows x 1 columns]"
      ]
     },
     "execution_count": 250,
     "metadata": {},
     "output_type": "execute_result"
    }
   ],
   "source": [
    "min_thresh, max_thresh = pol_change_df_6[\"PERCENT_CHANGE_6_MONTH\"].quantile([min_quant,max_quant])\n",
    "pol_change_df_6 = pol_change_df_6.loc[(pol_change_df_6.PERCENT_CHANGE_6_MONTH<max_thresh)&(pol_change_df_6.PERCENT_CHANGE_6_MONTH>min_thresh)]\n",
    "pol_change_df_6.dropna()"
   ]
  },
  {
   "cell_type": "code",
   "execution_count": 251,
   "metadata": {},
   "outputs": [
    {
     "data": {
      "text/html": [
       "<div>\n",
       "<style scoped>\n",
       "    .dataframe tbody tr th:only-of-type {\n",
       "        vertical-align: middle;\n",
       "    }\n",
       "\n",
       "    .dataframe tbody tr th {\n",
       "        vertical-align: top;\n",
       "    }\n",
       "\n",
       "    .dataframe thead th {\n",
       "        text-align: right;\n",
       "    }\n",
       "</style>\n",
       "<table border=\"1\" class=\"dataframe\">\n",
       "  <thead>\n",
       "    <tr style=\"text-align: right;\">\n",
       "      <th></th>\n",
       "      <th>PERCENT_CHANGE_3_MONTH</th>\n",
       "    </tr>\n",
       "  </thead>\n",
       "  <tbody>\n",
       "    <tr>\n",
       "      <th>333</th>\n",
       "      <td>-8.23</td>\n",
       "    </tr>\n",
       "    <tr>\n",
       "      <th>334</th>\n",
       "      <td>3.75</td>\n",
       "    </tr>\n",
       "    <tr>\n",
       "      <th>335</th>\n",
       "      <td>6.74</td>\n",
       "    </tr>\n",
       "    <tr>\n",
       "      <th>336</th>\n",
       "      <td>-1.32</td>\n",
       "    </tr>\n",
       "    <tr>\n",
       "      <th>337</th>\n",
       "      <td>22.36</td>\n",
       "    </tr>\n",
       "    <tr>\n",
       "      <th>...</th>\n",
       "      <td>...</td>\n",
       "    </tr>\n",
       "    <tr>\n",
       "      <th>6162</th>\n",
       "      <td>-4.93</td>\n",
       "    </tr>\n",
       "    <tr>\n",
       "      <th>6163</th>\n",
       "      <td>-31.57</td>\n",
       "    </tr>\n",
       "    <tr>\n",
       "      <th>6165</th>\n",
       "      <td>-23.40</td>\n",
       "    </tr>\n",
       "    <tr>\n",
       "      <th>6170</th>\n",
       "      <td>-25.90</td>\n",
       "    </tr>\n",
       "    <tr>\n",
       "      <th>6173</th>\n",
       "      <td>-19.79</td>\n",
       "    </tr>\n",
       "  </tbody>\n",
       "</table>\n",
       "<p>5237 rows × 1 columns</p>\n",
       "</div>"
      ],
      "text/plain": [
       "      PERCENT_CHANGE_3_MONTH\n",
       "333                    -8.23\n",
       "334                     3.75\n",
       "335                     6.74\n",
       "336                    -1.32\n",
       "337                    22.36\n",
       "...                      ...\n",
       "6162                   -4.93\n",
       "6163                  -31.57\n",
       "6165                  -23.40\n",
       "6170                  -25.90\n",
       "6173                  -19.79\n",
       "\n",
       "[5237 rows x 1 columns]"
      ]
     },
     "execution_count": 251,
     "metadata": {},
     "output_type": "execute_result"
    }
   ],
   "source": [
    "min_thresh, max_thresh = pol_change_df_3[\"PERCENT_CHANGE_3_MONTH\"].quantile([min_quant,max_quant])\n",
    "pol_change_df_3 = pol_change_df_3.loc[(pol_change_df_3.PERCENT_CHANGE_3_MONTH<max_thresh)&(pol_change_df_3.PERCENT_CHANGE_3_MONTH>min_thresh)]\n",
    "pol_change_df_3.dropna()"
   ]
  },
  {
   "cell_type": "code",
   "execution_count": 252,
   "metadata": {},
   "outputs": [],
   "source": [
    "pol_change_df = pd.DataFrame()"
   ]
  },
  {
   "cell_type": "code",
   "execution_count": 253,
   "metadata": {},
   "outputs": [
    {
     "data": {
      "text/html": [
       "<div>\n",
       "<style scoped>\n",
       "    .dataframe tbody tr th:only-of-type {\n",
       "        vertical-align: middle;\n",
       "    }\n",
       "\n",
       "    .dataframe tbody tr th {\n",
       "        vertical-align: top;\n",
       "    }\n",
       "\n",
       "    .dataframe thead th {\n",
       "        text-align: right;\n",
       "    }\n",
       "</style>\n",
       "<table border=\"1\" class=\"dataframe\">\n",
       "  <thead>\n",
       "    <tr style=\"text-align: right;\">\n",
       "      <th></th>\n",
       "      <th>PERCENT_CHANGE_12_MONTH</th>\n",
       "      <th>PERCENT_CHANGE_6_MONTH</th>\n",
       "      <th>PERCENT_CHANGE_3_MONTH</th>\n",
       "    </tr>\n",
       "  </thead>\n",
       "  <tbody>\n",
       "    <tr>\n",
       "      <th>334</th>\n",
       "      <td>28.88</td>\n",
       "      <td>NaN</td>\n",
       "      <td>NaN</td>\n",
       "    </tr>\n",
       "    <tr>\n",
       "      <th>335</th>\n",
       "      <td>27.48</td>\n",
       "      <td>NaN</td>\n",
       "      <td>NaN</td>\n",
       "    </tr>\n",
       "    <tr>\n",
       "      <th>336</th>\n",
       "      <td>80.24</td>\n",
       "      <td>NaN</td>\n",
       "      <td>NaN</td>\n",
       "    </tr>\n",
       "    <tr>\n",
       "      <th>337</th>\n",
       "      <td>66.72</td>\n",
       "      <td>NaN</td>\n",
       "      <td>NaN</td>\n",
       "    </tr>\n",
       "    <tr>\n",
       "      <th>338</th>\n",
       "      <td>16.20</td>\n",
       "      <td>NaN</td>\n",
       "      <td>NaN</td>\n",
       "    </tr>\n",
       "  </tbody>\n",
       "</table>\n",
       "</div>"
      ],
      "text/plain": [
       "     PERCENT_CHANGE_12_MONTH  PERCENT_CHANGE_6_MONTH  PERCENT_CHANGE_3_MONTH\n",
       "334                    28.88                     NaN                     NaN\n",
       "335                    27.48                     NaN                     NaN\n",
       "336                    80.24                     NaN                     NaN\n",
       "337                    66.72                     NaN                     NaN\n",
       "338                    16.20                     NaN                     NaN"
      ]
     },
     "execution_count": 253,
     "metadata": {},
     "output_type": "execute_result"
    }
   ],
   "source": [
    "pol_change_df = pd.concat([pol_change_df,pol_change_df_12])\n",
    "pol_change_df = pd.concat([pol_change_df,pol_change_df_6])\n",
    "pol_change_df = pd.concat([pol_change_df,pol_change_df_3])\n",
    "pol_change_df.head()"
   ]
  },
  {
   "cell_type": "code",
   "execution_count": 260,
   "metadata": {},
   "outputs": [
    {
     "data": {
      "image/png": "[encoded data removed]",
      "text/plain": [
       "<Figure size 432x288 with 1 Axes>"
      ]
     },
     "metadata": {
      "needs_background": "light"
     },
     "output_type": "display_data"
    }
   ],
   "source": [
    "palette = sns.color_palette(\"crest\",3)\n",
    "ax = sns.violinplot(data=pol_change_df, palette=palette)\n",
    "ax.set_xticklabels(ax.get_xticklabels(),rotation = 90,fontsize=10)\n",
    "ax.axhline(0,color=\"red\",linestyle=\"-\",lw=2)\n",
    "ax.set_xlabel(\"Time Frame\",fontsize=20,labelpad=20)\n",
    "ax.set_ylabel(\"Returns (%)\",fontsize=20,labelpad=20)\n",
    "ax.set_xticklabels(ax.get_xticklabels(),rotation = 90,fontsize=10)\n",
    "ax.yaxis.set_major_formatter(mtick.PercentFormatter())\n",
    "ax.set_title(\"Profitability by Trading Time Frame (2020)\", fontsize=20, pad=50)\n",
    "plt.savefig('bfb_visualization_3_violin',pad_inches=0.1,transparent=False)"
   ]
  }
 ],
 "metadata": {
  "interpreter": {
   "hash": "89be6eef660bd348af22d8a672b70db46ade2da57f8c532c275dea990af3f1a8"
  },
  "kernelspec": {
   "display_name": "Python 3.8.8 64-bit ('base': conda)",
   "language": "python",
   "name": "python3"
  },
  "language_info": {
   "codemirror_mode": {
    "name": "ipython",
    "version": 3
   },
   "file_extension": ".py",
   "mimetype": "text/x-python",
   "name": "python",
   "nbconvert_exporter": "python",
   "pygments_lexer": "ipython3",
   "version": "3.8.8"
  },
  "orig_nbformat": 4
 },
 "nbformat": 4,
 "nbformat_minor": 2
}
